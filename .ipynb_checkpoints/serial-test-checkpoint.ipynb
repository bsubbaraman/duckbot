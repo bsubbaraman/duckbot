{
 "cells": [
  {
   "cell_type": "code",
   "execution_count": 11,
   "id": "1deb38b9-04c8-4934-a762-081e48e2ae67",
   "metadata": {},
   "outputs": [],
   "source": [
    "import serial\n",
    "from serial.tools import list_ports\n",
    "import yaml\n",
    "import cv2\n",
    "import matplotlib\n",
    "matplotlib.use('TkAgg')\n",
    "from matplotlib import pyplot as plt\n",
    "import numpy as np\n",
    "import os\n"
   ]
  },
  {
   "cell_type": "code",
   "execution_count": 12,
   "id": "580975eb-da01-4ad7-82fe-5ba646c1b2de",
   "metadata": {},
   "outputs": [
    {
     "name": "stdout",
     "output_type": "stream",
     "text": [
      "['ttyACM0', 'ttyAMA0']\n"
     ]
    }
   ],
   "source": [
    "# list the available serial ports\n",
    "\n",
    "ports = serial.tools.list_ports.comports()\n",
    "\n",
    "print([port.name for port in ports]) "
   ]
  },
  {
   "cell_type": "code",
   "execution_count": 13,
   "id": "062e39e4-6175-436e-9070-3c8800f4453c",
   "metadata": {},
   "outputs": [],
   "source": [
    "# open the serial port\n",
    "ser = serial.Serial('/dev/ttyACM0', 115200)  # baudrate = 115200"
   ]
  },
  {
   "cell_type": "code",
   "execution_count": 14,
   "id": "b376190a-8ed3-48d4-9336-9370f11ea547",
   "metadata": {},
   "outputs": [
    {
     "data": {
      "text/plain": [
       "True"
      ]
     },
     "execution_count": 14,
     "metadata": {},
     "output_type": "execute_result"
    }
   ],
   "source": [
    "ser.is_open # did it really open? "
   ]
  },
  {
   "cell_type": "code",
   "execution_count": 164,
   "id": "e4013eef-9beb-404b-96e1-44a53f213109",
   "metadata": {},
   "outputs": [
    {
     "data": {
      "text/plain": [
       "4"
      ]
     },
     "execution_count": 164,
     "metadata": {},
     "output_type": "execute_result"
    }
   ],
   "source": [
    "ser.write(b'G90\\n') # explicitly set absolute positioning"
   ]
  },
  {
   "cell_type": "code",
   "execution_count": 8,
   "id": "7d677087-f319-4833-8c49-4ae285a589d8",
   "metadata": {},
   "outputs": [
    {
     "data": {
      "text/plain": [
       "19"
      ]
     },
     "execution_count": 8,
     "metadata": {},
     "output_type": "execute_result"
    }
   ],
   "source": [
    "ser.write(b'G1 X100 Y100 F6000\\n') # go to a position!"
   ]
  },
  {
   "cell_type": "code",
   "execution_count": 15,
   "id": "96023956-33e6-4b67-b8fd-461c3dcdb36e",
   "metadata": {},
   "outputs": [
    {
     "name": "stdout",
     "output_type": "stream",
     "text": [
      "640\n",
      "283.13636363636374\n"
     ]
    },
    {
     "name": "stderr",
     "output_type": "stream",
     "text": [
      "Exception in Tkinter callback\n",
      "Traceback (most recent call last):\n",
      "  File \"/usr/lib/python3.7/tkinter/__init__.py\", line 1705, in __call__\n",
      "    return self.func(*args)\n",
      "  File \"/usr/lib/python3.7/tkinter/__init__.py\", line 749, in callit\n",
      "    func(*args)\n",
      "  File \"/home/pi/duckweed/.venv/lib/python3.7/site-packages/matplotlib/backends/_backend_tk.py\", line 476, in delayed_destroy\n",
      "    self.window.destroy()\n",
      "  File \"/usr/lib/python3.7/tkinter/__init__.py\", line 2061, in destroy\n",
      "    for c in list(self.children.values()): c.destroy()\n",
      "  File \"/usr/lib/python3.7/tkinter/__init__.py\", line 2308, in destroy\n",
      "    Misc.destroy(self)\n",
      "  File \"/usr/lib/python3.7/tkinter/__init__.py\", line 592, in destroy\n",
      "    self.tk.deletecommand(name)\n",
      "_tkinter.TclError: can't delete Tcl command\n"
     ]
    }
   ],
   "source": [
    "# now grab an image from the usb microscop & show it\n",
    "videoCaptureObject = cv2.VideoCapture(0)\n",
    "result = True\n",
    "while(result):\n",
    "    ret,frame = videoCaptureObject.read()\n",
    "    # cv2.imwrite(\"test.jpg\",frame)\n",
    "    result = False\n",
    "videoCaptureObject.release()\n",
    "cv2.destroyAllWindows()\n",
    "w,h,z = frame.shape\n",
    "print(h)\n",
    "plt.imshow(frame)\n",
    "plt.title('frame capture')\n",
    "cx, cy = plt.ginput(1)[0] # [number of clicks][single item list]\n",
    "# plt.show()\n",
    "\n",
    "print(cx)"
   ]
  },
  {
   "cell_type": "code",
   "execution_count": 15,
   "id": "150b7a73-ad84-4a4d-a0ac-47dc6f69d31d",
   "metadata": {},
   "outputs": [
    {
     "name": "stdout",
     "output_type": "stream",
     "text": [
      "7.34\n"
     ]
    }
   ],
   "source": [
    "# load in the calibration file\n",
    "with open(\"./calibration/distance-calibration.yml\", \"r\") as stream:\n",
    "    try:\n",
    "        dcal = yaml.safe_load(stream)\n",
    "    except yaml.YAMLError as exc:\n",
    "        print(exc)\n",
    "        \n",
    "# grab the x & y values\n",
    "rx = dcal['z_50']['x']\n",
    "ry = dcal['z_50']['y']\n",
    "print(ry)"
   ]
  },
  {
   "cell_type": "code",
   "execution_count": 7,
   "id": "fb0b37ce-a388-461e-b577-3622cd294d93",
   "metadata": {},
   "outputs": [
    {
     "ename": "NameError",
     "evalue": "name 'cx' is not defined",
     "output_type": "error",
     "traceback": [
      "\u001b[0;31m---------------------------------------------------------------------------\u001b[0m",
      "\u001b[0;31mNameError\u001b[0m                                 Traceback (most recent call last)",
      "\u001b[0;32m/tmp/ipykernel_2034/2245708331.py\u001b[0m in \u001b[0;36m<module>\u001b[0;34m\u001b[0m\n\u001b[1;32m      2\u001b[0m \u001b[0;31m# the camera is rotated relative to the bed, so +x in cam space is -y on bed\u001b[0m\u001b[0;34m\u001b[0m\u001b[0;34m\u001b[0m\u001b[0;34m\u001b[0m\u001b[0m\n\u001b[1;32m      3\u001b[0m \u001b[0;31m# check this...\u001b[0m\u001b[0;34m\u001b[0m\u001b[0;34m\u001b[0m\u001b[0;34m\u001b[0m\u001b[0m\n\u001b[0;32m----> 4\u001b[0;31m \u001b[0mdy\u001b[0m \u001b[0;34m=\u001b[0m \u001b[0mnp\u001b[0m\u001b[0;34m.\u001b[0m\u001b[0minterp\u001b[0m\u001b[0;34m(\u001b[0m\u001b[0mcx\u001b[0m\u001b[0;34m,\u001b[0m\u001b[0;34m[\u001b[0m\u001b[0;36m0\u001b[0m\u001b[0;34m,\u001b[0m\u001b[0mw\u001b[0m\u001b[0;34m]\u001b[0m\u001b[0;34m,\u001b[0m\u001b[0;34m[\u001b[0m\u001b[0;34m-\u001b[0m\u001b[0mrx\u001b[0m\u001b[0;34m/\u001b[0m\u001b[0;36m2\u001b[0m\u001b[0;34m,\u001b[0m \u001b[0mrx\u001b[0m\u001b[0;34m/\u001b[0m\u001b[0;36m2\u001b[0m\u001b[0;34m]\u001b[0m\u001b[0;34m)\u001b[0m\u001b[0;34m\u001b[0m\u001b[0;34m\u001b[0m\u001b[0m\n\u001b[0m\u001b[1;32m      5\u001b[0m \u001b[0mdx\u001b[0m \u001b[0;34m=\u001b[0m \u001b[0mnp\u001b[0m\u001b[0;34m.\u001b[0m\u001b[0minterp\u001b[0m\u001b[0;34m(\u001b[0m\u001b[0mcy\u001b[0m\u001b[0;34m,\u001b[0m \u001b[0;34m[\u001b[0m\u001b[0;36m0\u001b[0m\u001b[0;34m,\u001b[0m\u001b[0mh\u001b[0m\u001b[0;34m]\u001b[0m\u001b[0;34m,\u001b[0m \u001b[0;34m[\u001b[0m\u001b[0mry\u001b[0m\u001b[0;34m/\u001b[0m\u001b[0;36m2\u001b[0m\u001b[0;34m,\u001b[0m\u001b[0;34m-\u001b[0m\u001b[0mry\u001b[0m\u001b[0;34m/\u001b[0m\u001b[0;36m2\u001b[0m\u001b[0;34m]\u001b[0m\u001b[0;34m)\u001b[0m\u001b[0;34m\u001b[0m\u001b[0;34m\u001b[0m\u001b[0m\n",
      "\u001b[0;31mNameError\u001b[0m: name 'cx' is not defined"
     ]
    }
   ],
   "source": [
    "# translate from pixels to real world\n",
    "# the camera is rotated relative to the bed, so +x in cam space is -y on bed\n",
    "# check this...\n",
    "dy = np.interp(cx,[0,w],[-rx/2, rx/2])\n",
    "dx = np.interp(cy, [0,h], [ry/2,-ry/2])"
   ]
  },
  {
   "cell_type": "code",
   "execution_count": 70,
   "id": "4a6ec86a-32d8-4c18-a535-99cbf8957f95",
   "metadata": {},
   "outputs": [
    {
     "name": "stdout",
     "output_type": "stream",
     "text": [
      "-1.49\n",
      "4.54\n"
     ]
    }
   ],
   "source": [
    "# now format to send over serial\n",
    "dx = \"{0:.2f}\".format(dx)\n",
    "dy = \"{0:.2f}\".format(dy)\n",
    "print(dx)\n",
    "print(dy)"
   ]
  },
  {
   "cell_type": "code",
   "execution_count": null,
   "id": "70d43025-75d3-4616-8d06-77cc353c0ea3",
   "metadata": {},
   "outputs": [
    {
     "data": {
      "text/plain": [
       "4"
      ]
     },
     "execution_count": 71,
     "metadata": {},
     "output_type": "execute_result"
    }
   ],
   "source": [
    "## Send gcode\n",
    "command = f'G1 X{dx} Y{dy} F6000\\n'\n",
    "ser.write(b'G91\\n') # set relative positioning"
   ]
  },
  {
   "cell_type": "code",
   "execution_count": 72,
   "id": "36576b26-6438-4ea3-9386-bccc04fd0204",
   "metadata": {},
   "outputs": [
    {
     "data": {
      "text/plain": [
       "22"
      ]
     },
     "execution_count": 72,
     "metadata": {},
     "output_type": "execute_result"
    }
   ],
   "source": [
    "ser.write(bytes(command, encoding='utf-8')) # send command"
   ]
  },
  {
   "cell_type": "code",
   "execution_count": 8,
   "id": "453533ea-c9dc-41c7-89c8-e42553fa1d14",
   "metadata": {},
   "outputs": [
    {
     "data": {
      "text/plain": [
       "4"
      ]
     },
     "execution_count": 8,
     "metadata": {},
     "output_type": "execute_result"
    }
   ],
   "source": [
    "ser.write(b'G90\\n') # restore absolute positioning"
   ]
  },
  {
   "cell_type": "code",
   "execution_count": 22,
   "id": "81a98e7b-bef6-4f1b-a7e6-e56933818d77",
   "metadata": {},
   "outputs": [],
   "source": [
    "# image (a section of) the bed, stepping by the microscope viewport size\n",
    "# save out each image\n",
    "import os\n",
    "for x in np.arange(130,150,rx):\n",
    "    if not os.path.exists(f'./img_bed/{x}'):\n",
    "        os.makedirs(f'./img_bed/{x}')\n",
    "    for y in np.arange(150, 170, ry):\n",
    "        cmd = f'G0 X{x} Y{y} F6000\\n'\n",
    "        ser.write(bytes(cmd, encoding='utf-8'))\n",
    "        videoCaptureObject = cv2.VideoCapture(0)\n",
    "        result = True\n",
    "        while(result):\n",
    "            ret,frame = videoCaptureObject.read()\n",
    "            cv2.imwrite(f'./img_bed/{x}/{y}.jpg',frame)\n",
    "            result = False\n",
    "        videoCaptureObject.release()\n",
    "        cv2.destroyAllWindows()"
   ]
  },
  {
   "cell_type": "code",
   "execution_count": 23,
   "id": "fbfb2af9-fa1d-4e96-8190-1672eef9cf62",
   "metadata": {},
   "outputs": [],
   "source": [
    "# now load in on horizontal row of images to concat them\n",
    "images = {}\n",
    "fnames = []\n",
    "root = '/home/pi/duckweed/img_bed'\n",
    "for subdir, dirs, files in os.walk(root):\n",
    "    for d in dirs:\n",
    "        if d not in images:\n",
    "            images[d] = [] # initialize in the dict\n",
    "        directory = os.path.join(subdir, d)\n",
    "        for filename in sorted(os.listdir(directory)):\n",
    "            img = cv2.imread(os.path.join(directory, filename))\n",
    "            if img is not None:\n",
    "                images[d].append(img)\n",
    "        \n",
    "# folder = '/home/pi/duckweed/img_bed/134.92'\n",
    "# for filename in sorted(os.listdir(folder)):\n",
    "#     fnames.append(os.path.join(folder,filename))\n",
    "#     img = cv2.imread(os.path.join(folder,filename))\n",
    "#     if img is not None:\n",
    "#         images.append(img)"
   ]
  },
  {
   "cell_type": "code",
   "execution_count": 24,
   "id": "2b66cb02-dfb3-429e-abd2-d9ccb5a7ecbc",
   "metadata": {},
   "outputs": [],
   "source": [
    "# concatenate each row\n",
    "full_image = {}\n",
    "for row in sorted(images):\n",
    "    vconcat = cv2.vconcat(images[row])\n",
    "    full_image[row] = vconcat\n",
    "# cv2.imwrite('concat.jpg', concat)"
   ]
  },
  {
   "cell_type": "code",
   "execution_count": 7,
   "id": "11cd0f66-fb3c-49d5-89f5-224cb75d7aa5",
   "metadata": {},
   "outputs": [],
   "source": [
    "# these are the concatenated rows\n",
    "for row in full_image:\n",
    "    cv2.imwrite(f'{row}.jpg', full_image[row])"
   ]
  },
  {
   "cell_type": "code",
   "execution_count": 25,
   "id": "b1a8e373-5c71-4e20-a1d6-1ce346ebdf57",
   "metadata": {},
   "outputs": [
    {
     "data": {
      "text/plain": [
       "True"
      ]
     },
     "execution_count": 25,
     "metadata": {},
     "output_type": "execute_result"
    }
   ],
   "source": [
    "# now hconcat those\n",
    "image_stitch = []\n",
    "for row in sorted(full_image, reverse=True):\n",
    "    image_stitch.append(full_image[row])\n",
    "hconcat = cv2.hconcat(image_stitch)\n",
    "cv2.imwrite('full.jpg', hconcat)"
   ]
  },
  {
   "cell_type": "code",
   "execution_count": 26,
   "id": "a5a990b9-500f-41d1-9a81-581c58529a47",
   "metadata": {},
   "outputs": [
    {
     "name": "stdout",
     "output_type": "stream",
     "text": [
      "1440\n",
      "[(750.6688311688312, 1310.6688311688308)]\n"
     ]
    }
   ],
   "source": [
    "# move to a position based on a click\n",
    "# this time from the big image!\n",
    "# now grab an image from the usb microscop & show it\n",
    "bed = cv2.imread('full.jpg')\n",
    "bed = np.rot90(bed, 3) # rotate 270 degrees\n",
    "w,h,z = bed.shape\n",
    "print(h)\n",
    "plt.imshow(bed)\n",
    "plt.title('frame capture')\n",
    "pt = plt.ginput(1) # [number of clicks][single item list]\n",
    "print(pt)"
   ]
  },
  {
   "cell_type": "code",
   "execution_count": 27,
   "id": "d576a994-9ba8-4cd5-a16f-f77041ffb472",
   "metadata": {},
   "outputs": [
    {
     "name": "stdout",
     "output_type": "stream",
     "text": [
      "750.6688311688312\n",
      "1310.6688311688308\n"
     ]
    }
   ],
   "source": [
    "cx, cy = pt[0]\n",
    "xfactor = len(images) # this is x on the printer bed\n",
    "yfactor = len(images[next(iter(images))]) # this is y on the printer bed\n",
    "print(cx)\n",
    "print(cy)"
   ]
  },
  {
   "cell_type": "code",
   "execution_count": 51,
   "id": "972a8358-1993-41e6-acc9-e9ca4fd59d9e",
   "metadata": {},
   "outputs": [
    {
     "name": "stdout",
     "output_type": "stream",
     "text": [
      "127.71284415584417\n",
      "159.74076684253248\n"
     ]
    }
   ],
   "source": [
    "# translate from pixels to real world\n",
    "# depends on the imaged region size (i.e. how many pics were taken)\n",
    "# the camera is rotated relative to the bed, so +x in cam space is -y on bed\n",
    "# in each dimension, the bed position is the regionStart-camWidth/2 to regionStart + factor*camWidth + camWidth/2\n",
    "xStart = 130\n",
    "yStart = 150 ## these should be a variable depending on where you take pics\n",
    "dy = np.interp(cx,[0,w],[yStart  + ry * yfactor - ry/2, yStart-ry/2])\n",
    "dx = np.interp(cy, [0,h], [xStart + rx * xfactor - rx/2,xStart-rx/2])\n",
    "# dy = np.interp(cx,[0,w],[yStart + rx * yfactor + rx/2, yStart-rx/2])\n",
    "# dx = np.interp(cy, [0,h], [xStart + ry * xfactor + ry/2,xStart-ry/2])\n",
    "print(dx)\n",
    "print(dy)"
   ]
  },
  {
   "cell_type": "code",
   "execution_count": 53,
   "id": "c0f7c7a1-e874-46e9-9203-70d054dbbe9b",
   "metadata": {},
   "outputs": [
    {
     "data": {
      "text/plain": [
       "3"
      ]
     },
     "execution_count": 53,
     "metadata": {},
     "output_type": "execute_result"
    }
   ],
   "source": [
    "ser.write(b'T1\\n') # tool change"
   ]
  },
  {
   "cell_type": "code",
   "execution_count": 52,
   "id": "48dff2c9-9d69-4b28-a8ab-f7505309b366",
   "metadata": {},
   "outputs": [
    {
     "data": {
      "text/plain": [
       "25"
      ]
     },
     "execution_count": 52,
     "metadata": {},
     "output_type": "execute_result"
    }
   ],
   "source": [
    "dx = \"{0:.2f}\".format(dx)\n",
    "dy = \"{0:.2f}\".format(dy)\n",
    "command = f\"G1 X{dx} Y{dy} F6000\\n\"\n",
    "ser.write(bytes(command, encoding='utf-8')) # send command"
   ]
  },
  {
   "cell_type": "code",
   "execution_count": null,
   "id": "45b4f963-e269-4bd4-a16e-48b2f36bc2d6",
   "metadata": {},
   "outputs": [],
   "source": []
  }
 ],
 "metadata": {
  "kernelspec": {
   "display_name": ".venv",
   "language": "python",
   "name": ".venv"
  },
  "language_info": {
   "codemirror_mode": {
    "name": "ipython",
    "version": 3
   },
   "file_extension": ".py",
   "mimetype": "text/x-python",
   "name": "python",
   "nbconvert_exporter": "python",
   "pygments_lexer": "ipython3",
   "version": "3.7.3"
  }
 },
 "nbformat": 4,
 "nbformat_minor": 5
}

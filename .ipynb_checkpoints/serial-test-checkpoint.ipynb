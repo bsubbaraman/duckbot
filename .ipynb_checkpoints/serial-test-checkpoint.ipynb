{
 "cells": [
  {
   "cell_type": "code",
   "execution_count": 62,
   "id": "1deb38b9-04c8-4934-a762-081e48e2ae67",
   "metadata": {},
   "outputs": [],
   "source": [
    "import serial\n",
    "from serial.tools import list_ports\n",
    "import yaml\n",
    "import cv2\n",
    "import matplotlib\n",
    "from matplotlib import pyplot as plt\n",
    "import numpy as np\n",
    "matplotlib.use('TkAgg')"
   ]
  },
  {
   "cell_type": "code",
   "execution_count": 63,
   "id": "580975eb-da01-4ad7-82fe-5ba646c1b2de",
   "metadata": {},
   "outputs": [
    {
     "name": "stdout",
     "output_type": "stream",
     "text": [
      "['ttyACM0', 'ttyAMA0']\n"
     ]
    }
   ],
   "source": [
    "# list the available serial ports\n",
    "\n",
    "ports = serial.tools.list_ports.comports()\n",
    "\n",
    "print([port.name for port in ports]) "
   ]
  },
  {
   "cell_type": "code",
   "execution_count": 64,
   "id": "062e39e4-6175-436e-9070-3c8800f4453c",
   "metadata": {},
   "outputs": [],
   "source": [
    "# open the serial port\n",
    "ser = serial.Serial('/dev/ttyACM0', 115200)  # baudrate = 115200"
   ]
  },
  {
   "cell_type": "code",
   "execution_count": 65,
   "id": "b376190a-8ed3-48d4-9336-9370f11ea547",
   "metadata": {},
   "outputs": [
    {
     "data": {
      "text/plain": [
       "True"
      ]
     },
     "execution_count": 65,
     "metadata": {},
     "output_type": "execute_result"
    }
   ],
   "source": [
    "ser.is_open # did it really open? "
   ]
  },
  {
   "cell_type": "code",
   "execution_count": 66,
   "id": "e4013eef-9beb-404b-96e1-44a53f213109",
   "metadata": {},
   "outputs": [
    {
     "data": {
      "text/plain": [
       "4"
      ]
     },
     "execution_count": 66,
     "metadata": {},
     "output_type": "execute_result"
    }
   ],
   "source": [
    "ser.write(b'G90\\n') # explicitly set absolute positioning"
   ]
  },
  {
   "cell_type": "code",
   "execution_count": 8,
   "id": "7d677087-f319-4833-8c49-4ae285a589d8",
   "metadata": {},
   "outputs": [
    {
     "data": {
      "text/plain": [
       "19"
      ]
     },
     "execution_count": 8,
     "metadata": {},
     "output_type": "execute_result"
    }
   ],
   "source": [
    "ser.write(b'G1 X100 Y100 F6000\\n') # go to a position!"
   ]
  },
  {
   "cell_type": "code",
   "execution_count": 67,
   "id": "96023956-33e6-4b67-b8fd-461c3dcdb36e",
   "metadata": {},
   "outputs": [
    {
     "name": "stdout",
     "output_type": "stream",
     "text": [
      "640\n",
      "459.8973509933775\n"
     ]
    }
   ],
   "source": [
    "# now grab an image from the usb microscop & show it\n",
    "videoCaptureObject = cv2.VideoCapture(1)\n",
    "result = True\n",
    "while(result):\n",
    "    ret,frame = videoCaptureObject.read()\n",
    "    # cv2.imwrite(\"test.jpg\",frame)\n",
    "    result = False\n",
    "videoCaptureObject.release()\n",
    "cv2.destroyAllWindows()\n",
    "w,h,z = frame.shape\n",
    "print(h)\n",
    "plt.imshow(frame)\n",
    "plt.title('frame capture')\n",
    "plt.show()\n",
    "cx, cy = plt.ginput(1)[0] # [number of clicks][single item list]\n",
    "print(cx)"
   ]
  },
  {
   "cell_type": "code",
   "execution_count": 68,
   "id": "150b7a73-ad84-4a4d-a0ac-47dc6f69d31d",
   "metadata": {},
   "outputs": [
    {
     "name": "stdout",
     "output_type": "stream",
     "text": [
      "7.54\n"
     ]
    }
   ],
   "source": [
    "# load in the calibration file\n",
    "with open(\"./calibration/distance-calibration.yml\", \"r\") as stream:\n",
    "    try:\n",
    "        dcal = yaml.safe_load(stream)\n",
    "    except yaml.YAMLError as exc:\n",
    "        print(exc)\n",
    "        \n",
    "# grab the x & y values\n",
    "rx = dcal['z_50']['x']\n",
    "ry = dcal['z_50']['y']\n",
    "print(ry)"
   ]
  },
  {
   "cell_type": "code",
   "execution_count": 69,
   "id": "fb0b37ce-a388-461e-b577-3622cd294d93",
   "metadata": {},
   "outputs": [],
   "source": [
    "# translate from pixels to real world\n",
    "# the camera is rotated relative to the bed, so +x in cam space is -y on bed\n",
    "# check this...\n",
    "dy = np.interp(cx,[0,w],[-rx/2, rx/2])\n",
    "dx = np.interp(cy, [0,h], [ry/2,-ry/2])"
   ]
  },
  {
   "cell_type": "code",
   "execution_count": 70,
   "id": "4a6ec86a-32d8-4c18-a535-99cbf8957f95",
   "metadata": {},
   "outputs": [
    {
     "name": "stdout",
     "output_type": "stream",
     "text": [
      "-1.49\n",
      "4.54\n"
     ]
    }
   ],
   "source": [
    "# now format to send over serial\n",
    "dx = \"{0:.2f}\".format(dx)\n",
    "dy = \"{0:.2f}\".format(dy)\n",
    "print(dx)\n",
    "print(dy)"
   ]
  },
  {
   "cell_type": "code",
   "execution_count": null,
   "id": "70d43025-75d3-4616-8d06-77cc353c0ea3",
   "metadata": {},
   "outputs": [
    {
     "data": {
      "text/plain": [
       "4"
      ]
     },
     "execution_count": 71,
     "metadata": {},
     "output_type": "execute_result"
    }
   ],
   "source": [
    "## Send gcode\n",
    "command = f'G1 X{dx} Y{dy} F6000\\n'\n",
    "ser.write(b'G91\\n') # set relative positioning"
   ]
  },
  {
   "cell_type": "code",
   "execution_count": 72,
   "id": "36576b26-6438-4ea3-9386-bccc04fd0204",
   "metadata": {},
   "outputs": [
    {
     "data": {
      "text/plain": [
       "22"
      ]
     },
     "execution_count": 72,
     "metadata": {},
     "output_type": "execute_result"
    }
   ],
   "source": [
    "ser.write(bytes(command, encoding='utf-8')) # send command"
   ]
  },
  {
   "cell_type": "code",
   "execution_count": 74,
   "id": "453533ea-c9dc-41c7-89c8-e42553fa1d14",
   "metadata": {},
   "outputs": [
    {
     "data": {
      "text/plain": [
       "4"
      ]
     },
     "execution_count": 74,
     "metadata": {},
     "output_type": "execute_result"
    }
   ],
   "source": [
    "ser.write(b'G90\\n') # restore absolute positioning"
   ]
  },
  {
   "cell_type": "code",
   "execution_count": null,
   "id": "81a98e7b-bef6-4f1b-a7e6-e56933818d77",
   "metadata": {},
   "outputs": [],
   "source": [
    "# image (a section of) the bed, stepping by the microscope viewport size\n",
    "# save out each image\n",
    "import os\n",
    "for x in np.arange(100,200,rx):\n",
    "    if not os.path.exists(f'./img_bed/{x}'):\n",
    "        os.makedirs(f'./img_bed/{x}')\n",
    "    for y in np.arange(100, 200, ry):\n",
    "        cmd = f'G0 X{x} Y{y} F6000\\n'\n",
    "        ser.write(bytes(cmd, encoding='utf-8'))\n",
    "        videoCaptureObject = cv2.VideoCapture(1)\n",
    "        result = True\n",
    "        while(result):\n",
    "            ret,frame = videoCaptureObject.read()\n",
    "            cv2.imwrite(f'./img_bed/{x}/{y}.jpg',frame)\n",
    "            result = False\n",
    "        videoCaptureObject.release()\n",
    "        cv2.destroyAllWindows()"
   ]
  },
  {
   "cell_type": "code",
   "execution_count": null,
   "id": "fbfb2af9-fa1d-4e96-8190-1672eef9cf62",
   "metadata": {},
   "outputs": [],
   "source": []
  }
 ],
 "metadata": {
  "kernelspec": {
   "display_name": ".venv",
   "language": "python",
   "name": ".venv"
  },
  "language_info": {
   "codemirror_mode": {
    "name": "ipython",
    "version": 3
   },
   "file_extension": ".py",
   "mimetype": "text/x-python",
   "name": "python",
   "nbconvert_exporter": "python",
   "pygments_lexer": "ipython3",
   "version": "3.7.3"
  }
 },
 "nbformat": 4,
 "nbformat_minor": 5
}

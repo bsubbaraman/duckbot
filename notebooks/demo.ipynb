{
 "cells": [
  {
   "cell_type": "markdown",
   "id": "35e1d8ba-9afd-4f6c-a013-a143a8929843",
   "metadata": {},
   "source": [
    "# Example Duckweed Pickup Workflow\n",
    "\n",
    "This notebook offers an example workflow to pick up & drop of duckweed fronds using a Jubilee outfitted with USB microscope and 10cc syring tools.\n"
   ]
  },
  {
   "cell_type": "code",
   "execution_count": null,
   "id": "54685b00-5cc4-450b-a813-fd4eb11ea894",
   "metadata": {},
   "outputs": [],
   "source": [
    "from MachineUtils import *\n",
    "from CameraUtils import *\n",
    "import os\n",
    "import yaml"
   ]
  },
  {
   "cell_type": "code",
   "execution_count": null,
   "id": "2dda6911-f77a-45ba-b32b-40b33b4ece10",
   "metadata": {},
   "outputs": [],
   "source": [
    "# We'll need to open the USB microscope as a camera by its index\n",
    "# Check your valid camera indices with this command\n",
    "# if you have multiple, you'll have to try them until you pick the right one\n",
    "\n",
    "getCameraIndices();"
   ]
  },
  {
   "cell_type": "code",
   "execution_count": null,
   "id": "a77008b5-ade5-463b-9e31-7bb3a8a5fe13",
   "metadata": {},
   "outputs": [],
   "source": [
    "# Change this value to the camera index from above\n",
    "# Check that it gets a frame from the correct camera\n",
    "# %matplotlib inline\n",
    "camIdx = 0\n",
    "frame = getFrame(camIdx); \n",
    "showFrame(frame)"
   ]
  },
  {
   "cell_type": "code",
   "execution_count": null,
   "id": "1c3c8413-8c6e-4809-a2d7-c0f7d338735b",
   "metadata": {},
   "outputs": [],
   "source": [
    "# Read in your calibration file\n",
    "\n",
    "with open(\"../calibration/distance-calibration.yml\", \"r\") as stream:\n",
    "    try:\n",
    "        distanceCal = yaml.safe_load(stream)\n",
    "    except yaml.YAMLError as exc:\n",
    "        print(exc)\n",
    "        \n",
    "# grab the x & y values\n",
    "# if you've calibrated for distances other than z=50mm, change this accordingly\n",
    "\n",
    "rx = distanceCal['z_50']['x']\n",
    "ry = distanceCal['z_50']['y']"
   ]
  },
  {
   "cell_type": "code",
   "execution_count": null,
   "id": "b122533a-3ef4-41f1-97e2-7d675d20503e",
   "metadata": {},
   "outputs": [],
   "source": [
    "# Setup your machine connection\n",
    "# List available ports in thie cell\n",
    "\n",
    "ports = serial.tools.list_ports.comports()\n",
    "print([port.name for port in ports]) "
   ]
  },
  {
   "cell_type": "code",
   "execution_count": null,
   "id": "84a4a841-533a-4ba8-b0e0-077b173c6104",
   "metadata": {},
   "outputs": [],
   "source": [
    "# Choose the correct port from above and establish connection with machine\n",
    "port = '/dev/ttyACM0'\n",
    "m = MachineCommunication(port)"
   ]
  },
  {
   "cell_type": "code",
   "execution_count": null,
   "id": "0d4c0b05-fff9-49cf-84e7-eb142d12e648",
   "metadata": {},
   "outputs": [],
   "source": [
    "# image (a section of) the bed, stepping by the microscope viewport size\n",
    "# To make sure images are stitched together in the correct order, increment in the +x/+y direction\n",
    "\n",
    "xStart = 112 # edit these to image the correct portion of your bed\n",
    "xEnd = 135\n",
    "yStart = 115\n",
    "yEnd = 185\n",
    "\n",
    "images = []\n",
    "row = 0\n",
    "m.toolChange(1) # assuming microscope is T1\n",
    "for x in np.arange(xStart, xEnd, rx):\n",
    "    images.insert(row, [])\n",
    "    for y in np.arange(yStart, yEnd, ry):\n",
    "        m.moveTo(x=x, y=y)\n",
    "        f = getFrame(camIdx)\n",
    "        images[row].append(f)\n",
    "    row+=1"
   ]
  },
  {
   "cell_type": "code",
   "execution_count": null,
   "id": "206ca4b2-8a66-40ab-ab10-73f31e6c0539",
   "metadata": {},
   "outputs": [],
   "source": [
    "# stitch the images together\n",
    "stitched = []\n",
    "for row in range(len(images)):\n",
    "    stitched.insert(0, cv2.vconcat(images[row])) # insert at beginning to ensure order is correct\n",
    "full = cv2.hconcat(stitched)\n",
    "cv2.imwrite('/home/pi/duckweed/test1.jpg', full)\n",
    "pixelHeight, pixelWidth, z = full.shape # pixel dimensions of full img. height/width are flipped due to orientation of microscope"
   ]
  },
  {
   "cell_type": "code",
   "execution_count": null,
   "id": "c757fda2-15e4-4891-a244-b7e3c62efd13",
   "metadata": {},
   "outputs": [],
   "source": [
    "showFrame(cv2.imread('/home/pi/duckweed/test1.jpg'))\n",
    "pixelWidth"
   ]
  },
  {
   "cell_type": "code",
   "execution_count": null,
   "id": "5955b111-58c4-4d6e-a09e-042077b68846",
   "metadata": {},
   "outputs": [],
   "source": [
    "clickX, clickY = selectPoint(cv2.imread('/home/pi/duckweed/test1.jpg'))"
   ]
  },
  {
   "cell_type": "code",
   "execution_count": null,
   "id": "c58687e6-176a-4bfa-be2d-c1baaa3671ee",
   "metadata": {},
   "outputs": [],
   "source": [
    "# move to the selected point\n",
    "numY = len(images[0]) # number of images taken in Y bed direction\n",
    "numX = len(stitched) # number of images taken in X bed direction\n",
    "\n",
    "# calculate the real world bounds of the stitched image\n",
    "# the minimum values are the starting values, minus half the microscopes viewport in that direction\n",
    "minX = xStart - rx/2\n",
    "minY = yStart - ry / 2\n",
    "# max values are the number of imgs taken in each direction offset by start values\n",
    "maxX = minX + numX * rx\n",
    "maxY = minY + numY * ry\n",
    "\n",
    "dx = np.interp(clickX, [0, pixelWidth], [maxX, minX]) # x pixel dimension is flipped relative to real world\n",
    "dy = np.interp(clickY, [0, pixelHeight], [minY, maxY])\n",
    "print(dx)\n",
    "print(dy)\n"
   ]
  },
  {
   "cell_type": "code",
   "execution_count": null,
   "id": "bbdb256f-18bc-4ee6-95e7-80bf67e8ddfe",
   "metadata": {},
   "outputs": [],
   "source": [
    "m.moveTo(x=dx, y=dy)"
   ]
  },
  {
   "cell_type": "code",
   "execution_count": null,
   "id": "f5e578eb-31d7-4e3d-ad79-68cbd5d9dfd1",
   "metadata": {},
   "outputs": [],
   "source": [
    "check = getFrame()\n",
    "showFrame(check, grid=True)"
   ]
  },
  {
   "cell_type": "code",
   "execution_count": null,
   "id": "17114f11-bccb-49b1-b306-9ebb0a469f31",
   "metadata": {},
   "outputs": [],
   "source": [
    "m.toolChange(2)\n",
    "offset = (-3.7, 5.75)\n",
    "m.moveTo(x=dx+offset[0], y=dy+offset[1])"
   ]
  },
  {
   "cell_type": "code",
   "execution_count": null,
   "id": "43d511e8-530e-4579-a06e-a35e95ecc865",
   "metadata": {},
   "outputs": [],
   "source": [
    "# dip down to the duckweed\n",
    "# find manually & change based on your setup\n",
    "m.moveTo(z=-40.9)"
   ]
  },
  {
   "cell_type": "code",
   "execution_count": null,
   "id": "34dd84a7-76e8-48d1-97cb-a2348b12abec",
   "metadata": {},
   "outputs": [],
   "source": []
  }
 ],
 "metadata": {
  "kernelspec": {
   "display_name": ".venv",
   "language": "python",
   "name": ".venv"
  },
  "language_info": {
   "codemirror_mode": {
    "name": "ipython",
    "version": 3
   },
   "file_extension": ".py",
   "mimetype": "text/x-python",
   "name": "python",
   "nbconvert_exporter": "python",
   "pygments_lexer": "ipython3",
   "version": "3.7.3"
  }
 },
 "nbformat": 4,
 "nbformat_minor": 5
}

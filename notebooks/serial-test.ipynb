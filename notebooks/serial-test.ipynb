{
 "cells": [
  {
   "cell_type": "code",
   "execution_count": 1,
   "id": "1deb38b9-04c8-4934-a762-081e48e2ae67",
   "metadata": {},
   "outputs": [],
   "source": [
    "import serial\n",
    "from serial.tools import list_ports\n",
    "import yaml\n",
    "import cv2\n",
    "import matplotlib\n",
    "matplotlib.use('TkAgg')\n",
    "from matplotlib import pyplot as plt\n",
    "import numpy as np\n",
    "import os\n"
   ]
  },
  {
   "cell_type": "code",
   "execution_count": 2,
   "id": "580975eb-da01-4ad7-82fe-5ba646c1b2de",
   "metadata": {},
   "outputs": [
    {
     "name": "stdout",
     "output_type": "stream",
     "text": [
      "['ttyACM0', 'ttyAMA0']\n"
     ]
    }
   ],
   "source": [
    "# list the available serial ports\n",
    "\n",
    "ports = serial.tools.list_ports.comports()\n",
    "\n",
    "print([port.name for port in ports]) "
   ]
  },
  {
   "cell_type": "code",
   "execution_count": 3,
   "id": "062e39e4-6175-436e-9070-3c8800f4453c",
   "metadata": {},
   "outputs": [],
   "source": [
    "# open the serial port\n",
    "ser = serial.Serial('/dev/ttyACM0', 115200)  # baudrate = 115200"
   ]
  },
  {
   "cell_type": "code",
   "execution_count": 4,
   "id": "b376190a-8ed3-48d4-9336-9370f11ea547",
   "metadata": {},
   "outputs": [
    {
     "data": {
      "text/plain": [
       "True"
      ]
     },
     "execution_count": 4,
     "metadata": {},
     "output_type": "execute_result"
    }
   ],
   "source": [
    "ser.is_open # did it really open? "
   ]
  },
  {
   "cell_type": "code",
   "execution_count": 5,
   "id": "e4013eef-9beb-404b-96e1-44a53f213109",
   "metadata": {},
   "outputs": [
    {
     "data": {
      "text/plain": [
       "4"
      ]
     },
     "execution_count": 5,
     "metadata": {},
     "output_type": "execute_result"
    }
   ],
   "source": [
    "ser.write(b'G90\\n') # explicitly set absolute positioning"
   ]
  },
  {
   "cell_type": "code",
   "execution_count": 8,
   "id": "7d677087-f319-4833-8c49-4ae285a589d8",
   "metadata": {},
   "outputs": [
    {
     "data": {
      "text/plain": [
       "19"
      ]
     },
     "execution_count": 8,
     "metadata": {},
     "output_type": "execute_result"
    }
   ],
   "source": [
    "ser.write(b'G1 X100 Y100 F6000\\n') # go to a position!"
   ]
  },
  {
   "cell_type": "code",
   "execution_count": null,
   "id": "96023956-33e6-4b67-b8fd-461c3dcdb36e",
   "metadata": {},
   "outputs": [],
   "source": [
    "# now grab an image from the usb microscop & show it\n",
    "videoCaptureObject = cv2.VideoCapture(0)\n",
    "result = True\n",
    "while(result):\n",
    "    ret,frame = videoCaptureObject.read()\n",
    "    # cv2.imwrite(\"test.jpg\",frame)\n",
    "    result = False\n",
    "videoCaptureObject.release()\n",
    "cv2.destroyAllWindows()\n",
    "w,h,z = frame.shape\n",
    "print(h)\n",
    "plt.imshow(frame)\n",
    "plt.title('frame capture')\n",
    "cx, cy = plt.ginput(1)[0] # [number of clicks][single item list]\n",
    "# plt.show()\n",
    "\n",
    "print(cx)"
   ]
  },
  {
   "cell_type": "code",
   "execution_count": 6,
   "id": "150b7a73-ad84-4a4d-a0ac-47dc6f69d31d",
   "metadata": {},
   "outputs": [
    {
     "name": "stdout",
     "output_type": "stream",
     "text": [
      "7.34\n"
     ]
    }
   ],
   "source": [
    "# load in the calibration file\n",
    "with open(\"./calibration/distance-calibration.yml\", \"r\") as stream:\n",
    "    try:\n",
    "        dcal = yaml.safe_load(stream)\n",
    "    except yaml.YAMLError as exc:\n",
    "        print(exc)\n",
    "        \n",
    "# grab the x & y values\n",
    "rx = dcal['z_50']['x']\n",
    "ry = dcal['z_50']['y']\n",
    "print(ry)"
   ]
  },
  {
   "cell_type": "code",
   "execution_count": null,
   "id": "fb0b37ce-a388-461e-b577-3622cd294d93",
   "metadata": {},
   "outputs": [],
   "source": [
    "# translate from pixels to real world\n",
    "# the camera is rotated relative to the bed, so +x in cam space is -y on bed\n",
    "# check this...\n",
    "dy = np.interp(cx,[0,w],[-rx/2, rx/2])\n",
    "dx = np.interp(cy, [0,h], [ry/2,-ry/2])"
   ]
  },
  {
   "cell_type": "code",
   "execution_count": 70,
   "id": "4a6ec86a-32d8-4c18-a535-99cbf8957f95",
   "metadata": {},
   "outputs": [
    {
     "name": "stdout",
     "output_type": "stream",
     "text": [
      "-1.49\n",
      "4.54\n"
     ]
    }
   ],
   "source": [
    "# now format to send over serial\n",
    "dx = \"{0:.2f}\".format(dx)\n",
    "dy = \"{0:.2f}\".format(dy)\n",
    "print(dx)\n",
    "print(dy)"
   ]
  },
  {
   "cell_type": "code",
   "execution_count": null,
   "id": "70d43025-75d3-4616-8d06-77cc353c0ea3",
   "metadata": {},
   "outputs": [
    {
     "data": {
      "text/plain": [
       "4"
      ]
     },
     "execution_count": 71,
     "metadata": {},
     "output_type": "execute_result"
    }
   ],
   "source": [
    "## Send gcode\n",
    "command = f'G1 X{dx} Y{dy} F6000\\n'\n",
    "ser.write(b'G91\\n') # set relative positioning"
   ]
  },
  {
   "cell_type": "code",
   "execution_count": 72,
   "id": "36576b26-6438-4ea3-9386-bccc04fd0204",
   "metadata": {},
   "outputs": [
    {
     "data": {
      "text/plain": [
       "22"
      ]
     },
     "execution_count": 72,
     "metadata": {},
     "output_type": "execute_result"
    }
   ],
   "source": [
    "ser.write(bytes(command, encoding='utf-8')) # send command"
   ]
  },
  {
   "cell_type": "code",
   "execution_count": 8,
   "id": "453533ea-c9dc-41c7-89c8-e42553fa1d14",
   "metadata": {},
   "outputs": [
    {
     "data": {
      "text/plain": [
       "4"
      ]
     },
     "execution_count": 8,
     "metadata": {},
     "output_type": "execute_result"
    }
   ],
   "source": [
    "ser.write(b'G90\\n') # restore absolute positioning"
   ]
  },
  {
   "cell_type": "code",
   "execution_count": 8,
   "id": "81a98e7b-bef6-4f1b-a7e6-e56933818d77",
   "metadata": {},
   "outputs": [],
   "source": [
    "# image (a section of) the bed, stepping by the microscope viewport size\n",
    "# save out each image\n",
    "import os\n",
    "for x in np.arange(130,150,rx):\n",
    "    if not os.path.exists(f'./img_bed/{x}'):\n",
    "        os.makedirs(f'./img_bed/{x}')\n",
    "    for y in np.arange(150, 170, ry):\n",
    "        cmd = f'G0 X{x} Y{y} F6000\\n'\n",
    "        ser.write(bytes(cmd, encoding='utf-8'))\n",
    "        videoCaptureObject = cv2.VideoCapture(0)\n",
    "        result = True\n",
    "        while(result):\n",
    "            ret,frame = videoCaptureObject.read()\n",
    "            cv2.imwrite(f'./img_bed/{x}/{y}.jpg',frame)\n",
    "            result = False\n",
    "        videoCaptureObject.release()\n",
    "        cv2.destroyAllWindows()"
   ]
  },
  {
   "cell_type": "code",
   "execution_count": 9,
   "id": "fbfb2af9-fa1d-4e96-8190-1672eef9cf62",
   "metadata": {},
   "outputs": [],
   "source": [
    "# now load in on horizontal row of images to concat them\n",
    "images = {}\n",
    "fnames = []\n",
    "root = '/home/pi/duckweed/img_bed'\n",
    "for subdir, dirs, files in os.walk(root):\n",
    "    for d in dirs:\n",
    "        if d not in images:\n",
    "            images[d] = [] # initialize in the dict\n",
    "        directory = os.path.join(subdir, d)\n",
    "        for filename in sorted(os.listdir(directory)):\n",
    "            img = cv2.imread(os.path.join(directory, filename))\n",
    "            if img is not None:\n",
    "                images[d].append(img)\n",
    "        \n",
    "# folder = '/home/pi/duckweed/img_bed/134.92'\n",
    "# for filename in sorted(os.listdir(folder)):\n",
    "#     fnames.append(os.path.join(folder,filename))\n",
    "#     img = cv2.imread(os.path.join(folder,filename))\n",
    "#     if img is not None:\n",
    "#         images.append(img)"
   ]
  },
  {
   "cell_type": "code",
   "execution_count": 10,
   "id": "2b66cb02-dfb3-429e-abd2-d9ccb5a7ecbc",
   "metadata": {},
   "outputs": [],
   "source": [
    "# concatenate each row\n",
    "full_image = {}\n",
    "for row in sorted(images):\n",
    "    vconcat = cv2.vconcat(images[row])\n",
    "    full_image[row] = vconcat\n",
    "# cv2.imwrite('concat.jpg', concat)"
   ]
  },
  {
   "cell_type": "code",
   "execution_count": 11,
   "id": "11cd0f66-fb3c-49d5-89f5-224cb75d7aa5",
   "metadata": {},
   "outputs": [],
   "source": [
    "# these are the concatenated rows\n",
    "for row in full_image:\n",
    "    cv2.imwrite(f'{row}.jpg', full_image[row])"
   ]
  },
  {
   "cell_type": "code",
   "execution_count": 12,
   "id": "b1a8e373-5c71-4e20-a1d6-1ce346ebdf57",
   "metadata": {},
   "outputs": [
    {
     "data": {
      "text/plain": [
       "True"
      ]
     },
     "execution_count": 12,
     "metadata": {},
     "output_type": "execute_result"
    }
   ],
   "source": [
    "# now hconcat those\n",
    "image_stitch = []\n",
    "for row in sorted(full_image, reverse=True):\n",
    "    image_stitch.append(full_image[row])\n",
    "hconcat = cv2.hconcat(image_stitch)\n",
    "cv2.imwrite('full.jpg', hconcat)"
   ]
  },
  {
   "cell_type": "code",
   "execution_count": 13,
   "id": "a5a990b9-500f-41d1-9a81-581c58529a47",
   "metadata": {},
   "outputs": [
    {
     "name": "stdout",
     "output_type": "stream",
     "text": [
      "1440\n",
      "[(506.5129870129871, 1570.4090909090908)]\n"
     ]
    }
   ],
   "source": [
    "# move to a position based on a click\n",
    "# this time from the big image!\n",
    "# now grab an image from the usb microscop & show it\n",
    "bed = cv2.imread('full.jpg')\n",
    "bed = np.rot90(bed, 3) # rotate 270 degrees\n",
    "w,h,z = bed.shape\n",
    "print(h)\n",
    "plt.imshow(bed)\n",
    "plt.title('frame capture')\n",
    "pt = plt.ginput(1) # [number of clicks][single item list]\n",
    "print(pt)"
   ]
  },
  {
   "cell_type": "code",
   "execution_count": 14,
   "id": "d576a994-9ba8-4cd5-a16f-f77041ffb472",
   "metadata": {},
   "outputs": [
    {
     "name": "stdout",
     "output_type": "stream",
     "text": [
      "506.5129870129871\n",
      "1570.4090909090908\n"
     ]
    }
   ],
   "source": [
    "cx, cy = pt[0]\n",
    "xfactor = len(images) # this is x on the printer bed\n",
    "yfactor = len(images[next(iter(images))]) # this is y on the printer bed\n",
    "print(cx)\n",
    "print(cy)"
   ]
  },
  {
   "cell_type": "code",
   "execution_count": 15,
   "id": "972a8358-1993-41e6-acc9-e9ca4fd59d9e",
   "metadata": {},
   "outputs": [
    {
     "name": "stdout",
     "output_type": "stream",
     "text": [
      "125.04\n",
      "162.54092918019484\n"
     ]
    }
   ],
   "source": [
    "# translate from pixels to real world\n",
    "# depends on the imaged region size (i.e. how many pics were taken)\n",
    "# the camera is rotated relative to the bed, so +x in cam space is -y on bed\n",
    "# in each dimension, the bed position is the regionStart-camWidth/2 to regionStart + factor*camWidth + camWidth/2\n",
    "xStart = 130\n",
    "yStart = 150 ## these should be a variable depending on where you take pics\n",
    "dy = np.interp(cx,[0,w],[yStart  + ry * yfactor - ry/2, yStart-ry/2])\n",
    "dx = np.interp(cy, [0,h], [xStart + rx * xfactor - rx/2,xStart-rx/2])\n",
    "# dy = np.interp(cx,[0,w],[yStart + rx * yfactor + rx/2, yStart-rx/2])\n",
    "# dx = np.interp(cy, [0,h], [xStart + ry * xfactor + ry/2,xStart-ry/2])\n",
    "print(dx)\n",
    "print(dy)"
   ]
  },
  {
   "cell_type": "code",
   "execution_count": 16,
   "id": "c0f7c7a1-e874-46e9-9203-70d054dbbe9b",
   "metadata": {},
   "outputs": [
    {
     "data": {
      "text/plain": [
       "3"
      ]
     },
     "execution_count": 16,
     "metadata": {},
     "output_type": "execute_result"
    }
   ],
   "source": []
  },
  {
   "cell_type": "code",
   "execution_count": 16,
   "id": "48dff2c9-9d69-4b28-a8ab-f7505309b366",
   "metadata": {},
   "outputs": [
    {
     "data": {
      "text/plain": [
       "25"
      ]
     },
     "execution_count": 16,
     "metadata": {},
     "output_type": "execute_result"
    }
   ],
   "source": [
    "ser.write(b'T2\\n') # tool change\n",
    "dx = \"{0:.2f}\".format(dx)\n",
    "dy = \"{0:.2f}\".format(dy)\n",
    "command = f\"G1 X{dx} Y{dy} F6000\\n\"\n",
    "ser.write(bytes(command, encoding='utf-8')) # send command"
   ]
  },
  {
   "cell_type": "code",
   "execution_count": 27,
   "id": "45b4f963-e269-4bd4-a16e-48b2f36bc2d6",
   "metadata": {},
   "outputs": [
    {
     "data": {
      "text/plain": [
       "4"
      ]
     },
     "execution_count": 27,
     "metadata": {},
     "output_type": "execute_result"
    }
   ],
   "source": [
    "# Send tool down!\n",
    "ser.write(b'G91\\n') # Relative positioning\n",
    "dz = -80.0\n",
    "command = f\"G1 Z{dz} F6000\\n\"\n",
    "ser.write(bytes(command, encoding='utf-8')) # send command\n",
    "ser.write(b'G90\\n') # Restore Abolute positioning"
   ]
  },
  {
   "cell_type": "code",
   "execution_count": 26,
   "id": "af9a94ab-bdf8-4de3-9385-3a8d240e2ed1",
   "metadata": {},
   "outputs": [
    {
     "data": {
      "text/plain": [
       "4"
      ]
     },
     "execution_count": 26,
     "metadata": {},
     "output_type": "execute_result"
    }
   ],
   "source": [
    "# Bring tool down!\n",
    "ser.write(b'G91\\n') # Relative positioning\n",
    "dz = 80.0\n",
    "command = f\"G1 Z{dz} F6000\\n\"\n",
    "ser.write(bytes(command, encoding='utf-8')) # send command\n",
    "ser.write(b'G90\\n') # Restore Abolute positioning"
   ]
  },
  {
   "cell_type": "code",
   "execution_count": null,
   "id": "3559097c-ccce-4c53-9cf0-a2e0d28851c7",
   "metadata": {},
   "outputs": [],
   "source": []
  }
 ],
 "metadata": {
  "kernelspec": {
   "display_name": ".venv",
   "language": "python",
   "name": ".venv"
  },
  "language_info": {
   "codemirror_mode": {
    "name": "ipython",
    "version": 3
   },
   "file_extension": ".py",
   "mimetype": "text/x-python",
   "name": "python",
   "nbconvert_exporter": "python",
   "pygments_lexer": "ipython3",
   "version": "3.7.3"
  }
 },
 "nbformat": 4,
 "nbformat_minor": 5
}

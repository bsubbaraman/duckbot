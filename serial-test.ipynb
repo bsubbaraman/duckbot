{
 "cells": [
  {
   "cell_type": "code",
   "execution_count": 17,
   "id": "1deb38b9-04c8-4934-a762-081e48e2ae67",
   "metadata": {},
   "outputs": [],
   "source": [
    "import serial\n",
    "from serial.tools import list_ports"
   ]
  },
  {
   "cell_type": "code",
   "execution_count": 18,
   "id": "580975eb-da01-4ad7-82fe-5ba646c1b2de",
   "metadata": {},
   "outputs": [
    {
     "name": "stdout",
     "output_type": "stream",
     "text": [
      "['cu.Bluetooth-Incoming-Port', 'cu.usbmodem141201']\n"
     ]
    }
   ],
   "source": [
    "# list the available serial ports\n",
    "\n",
    "ports = serial.tools.list_ports.comports()\n",
    "\n",
    "print([port.name for port in ports]) "
   ]
  },
  {
   "cell_type": "code",
   "execution_count": 19,
   "id": "062e39e4-6175-436e-9070-3c8800f4453c",
   "metadata": {},
   "outputs": [],
   "source": [
    "# open the serial port\n",
    "ser = serial.Serial('/dev/cu.usbmodem141201', 115200)  # baudrate = 115200"
   ]
  },
  {
   "cell_type": "code",
   "execution_count": 20,
   "id": "b376190a-8ed3-48d4-9336-9370f11ea547",
   "metadata": {},
   "outputs": [
    {
     "data": {
      "text/plain": [
       "True"
      ]
     },
     "execution_count": 20,
     "metadata": {},
     "output_type": "execute_result"
    }
   ],
   "source": [
    "ser.is_open # did it really open? "
   ]
  },
  {
   "cell_type": "code",
   "execution_count": 21,
   "id": "e4013eef-9beb-404b-96e1-44a53f213109",
   "metadata": {},
   "outputs": [
    {
     "data": {
      "text/plain": [
       "6"
      ]
     },
     "execution_count": 21,
     "metadata": {},
     "output_type": "execute_result"
    }
   ],
   "source": [
    "ser.write(b'G90 Y\\n') # explicitly set absolute positioning"
   ]
  },
  {
   "cell_type": "code",
   "execution_count": 28,
   "id": "7d677087-f319-4833-8c49-4ae285a589d8",
   "metadata": {},
   "outputs": [
    {
     "data": {
      "text/plain": [
       "23"
      ]
     },
     "execution_count": 28,
     "metadata": {},
     "output_type": "execute_result"
    }
   ],
   "source": [
    "ser.write(b'G1 X100 Y100 Z20 F6000\\n') # go to a position!"
   ]
  },
  {
   "cell_type": "code",
   "execution_count": null,
   "id": "96023956-33e6-4b67-b8fd-461c3dcdb36e",
   "metadata": {},
   "outputs": [],
   "source": []
  }
 ],
 "metadata": {
  "kernelspec": {
   "display_name": "Python 3 (ipykernel)",
   "language": "python",
   "name": "python3"
  },
  "language_info": {
   "codemirror_mode": {
    "name": "ipython",
    "version": 3
   },
   "file_extension": ".py",
   "mimetype": "text/x-python",
   "name": "python",
   "nbconvert_exporter": "python",
   "pygments_lexer": "ipython3",
   "version": "3.9.4"
  }
 },
 "nbformat": 4,
 "nbformat_minor": 5
}
